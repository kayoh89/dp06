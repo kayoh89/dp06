{
  "nbformat": 4,
  "nbformat_minor": 0,
  "metadata": {
    "colab": {
      "name": "trilhaa2t3dpkayo.ipynb",
      "provenance": [],
      "authorship_tag": "ABX9TyOtk87qx+1yJSkQtw9syKao",
      "include_colab_link": true
    },
    "kernelspec": {
      "name": "python3",
      "display_name": "Python 3"
    },
    "language_info": {
      "name": "python"
    }
  },
  "cells": [
    {
      "cell_type": "markdown",
      "metadata": {
        "id": "view-in-github",
        "colab_type": "text"
      },
      "source": [
        "<a href=\"https://colab.research.google.com/github/kayoh89/dp06/blob/main/trilhaa2t3dpkayo.ipynb\" target=\"_parent\"><img src=\"https://colab.research.google.com/assets/colab-badge.svg\" alt=\"Open In Colab\"/></a>"
      ]
    },
    {
      "cell_type": "markdown",
      "source": [
        "# **Trilha 2: Tarefa (Peso 3)**"
      ],
      "metadata": {
        "id": "t2p4Dz3Qvy7x"
      }
    },
    {
      "cell_type": "markdown",
      "source": [
        "DEEP LEARNING PARA PROCESSAMENTO DE LINGUAGEM E VISÃO [TURMA 01B] - 2022/1"
      ],
      "metadata": {
        "id": "M3vriITqv4KF"
      }
    },
    {
      "cell_type": "markdown",
      "source": [
        "**Nome:** Kayo Henrique da Costa Belagamba "
      ],
      "metadata": {
        "id": "fOcg2-QCv7IM"
      }
    },
    {
      "cell_type": "markdown",
      "source": [
        "Os frameworks TensorFlow e Keras são muito utilizados para o desenvolvimento de aplicações de Deep Learning. Nesta atividade, você deverá carregar os dados disponibilizados OSI_feats_e3.csv (entrada) e OSI_target_e2.csv (saída) combinando os seguintes passos: \n",
        "\n",
        "\n",
        "1. Carregue os dados e divida-os em treinamento e teste; \n",
        "2. Crie um modelo sequencial; \n",
        "3. Adicione uma camada Dense com N neurônios, sendo N a quantidade de atributos. \n",
        "4. Adicione uma função de ativação sigmoide; \n",
        "5. Compile o modelo especificando o otimizador, a métrica de loss para avaliar, e quaisquer outras métricas para avaliar depois de cada época; \n",
        "6. Ajuste o modelo aos dados de treinamento, especificando o número de épocas; \n",
        "7. Apresente o loss e outras métricas para cada época que serão avaliadas nos conjuntos de treinamento/avaliação; \n",
        "8. Avalie o loss no conjunto de teste. \n",
        "\n",
        "Um arquivo notebook em formato.IPYNB com código python deverá ser entregue como resposta. Nesta atividade, não estamos avaliando a qualidade do modelo construído, mas a forma de construção, seguindo os passos indicados. "
      ],
      "metadata": {
        "id": "rJadeLfRwD89"
      }
    },
    {
      "cell_type": "markdown",
      "source": [
        "1. **Carregue os dados e divida-os em treinamento e teste;**\n",
        "\n",
        "\n"
      ],
      "metadata": {
        "id": "ybvrpd3yxVrJ"
      }
    },
    {
      "cell_type": "code",
      "source": [
        "#Importando as Bibliotecas\n",
        "import pandas as pd\n",
        "import numpy as np\n",
        "import tensorflow as tf\n",
        "from tensorflow import keras\n",
        "from sklearn.model_selection import train_test_split\n",
        "import matplotlib.pyplot as plt"
      ],
      "metadata": {
        "id": "cQgPLzs-xblY"
      },
      "execution_count": 2,
      "outputs": []
    },
    {
      "cell_type": "code",
      "source": [
        "#Carregando os dados\n",
        "df_feat = pd.read_csv(\"OSI_feats_e3.csv\")\n",
        "df_target = pd.read_csv('OSI_target_e2.csv')\n",
        "dataset = pd.concat([df_feat,df_target],axis=1)\n",
        "dataset.head()"
      ],
      "metadata": {
        "colab": {
          "base_uri": "https://localhost:8080/",
          "height": 300
        },
        "id": "EE3YjHX3xwx6",
        "outputId": "b37fc670-4740-4c87-bf55-39609239f316"
      },
      "execution_count": 3,
      "outputs": [
        {
          "output_type": "execute_result",
          "data": {
            "text/plain": [
              "   Administrative  Administrative_Duration  Informational  \\\n",
              "0               0                      0.0              0   \n",
              "1               0                      0.0              0   \n",
              "2               0                      0.0              0   \n",
              "3               0                      0.0              0   \n",
              "4               0                      0.0              0   \n",
              "\n",
              "   Informational_Duration  ProductRelated  ProductRelated_Duration  \\\n",
              "0                     0.0               1                 0.000000   \n",
              "1                     0.0               2                64.000000   \n",
              "2                     0.0               1                 0.000000   \n",
              "3                     0.0               2                 2.666667   \n",
              "4                     0.0              10               627.500000   \n",
              "\n",
              "   BounceRates  ExitRates  PageValues  SpecialDay  ...  TrafficType_20  \\\n",
              "0         0.20       0.20         0.0         0.0  ...               0   \n",
              "1         0.00       0.10         0.0         0.0  ...               0   \n",
              "2         0.20       0.20         0.0         0.0  ...               0   \n",
              "3         0.05       0.14         0.0         0.0  ...               0   \n",
              "4         0.02       0.05         0.0         0.0  ...               0   \n",
              "\n",
              "   Region_1  Region_2  Region_3  Region_4  Region_6  Region_7  Region_8  \\\n",
              "0         1         0         0         0         0         0         0   \n",
              "1         1         0         0         0         0         0         0   \n",
              "2         0         0         0         0         0         0         0   \n",
              "3         0         1         0         0         0         0         0   \n",
              "4         1         0         0         0         0         0         0   \n",
              "\n",
              "   Region_9  Revenue  \n",
              "0         0        0  \n",
              "1         0        0  \n",
              "2         1        0  \n",
              "3         0        0  \n",
              "4         0        0  \n",
              "\n",
              "[5 rows x 69 columns]"
            ],
            "text/html": [
              "\n",
              "  <div id=\"df-b1d77b79-dc58-41d5-a54f-c1042fd9dffc\">\n",
              "    <div class=\"colab-df-container\">\n",
              "      <div>\n",
              "<style scoped>\n",
              "    .dataframe tbody tr th:only-of-type {\n",
              "        vertical-align: middle;\n",
              "    }\n",
              "\n",
              "    .dataframe tbody tr th {\n",
              "        vertical-align: top;\n",
              "    }\n",
              "\n",
              "    .dataframe thead th {\n",
              "        text-align: right;\n",
              "    }\n",
              "</style>\n",
              "<table border=\"1\" class=\"dataframe\">\n",
              "  <thead>\n",
              "    <tr style=\"text-align: right;\">\n",
              "      <th></th>\n",
              "      <th>Administrative</th>\n",
              "      <th>Administrative_Duration</th>\n",
              "      <th>Informational</th>\n",
              "      <th>Informational_Duration</th>\n",
              "      <th>ProductRelated</th>\n",
              "      <th>ProductRelated_Duration</th>\n",
              "      <th>BounceRates</th>\n",
              "      <th>ExitRates</th>\n",
              "      <th>PageValues</th>\n",
              "      <th>SpecialDay</th>\n",
              "      <th>...</th>\n",
              "      <th>TrafficType_20</th>\n",
              "      <th>Region_1</th>\n",
              "      <th>Region_2</th>\n",
              "      <th>Region_3</th>\n",
              "      <th>Region_4</th>\n",
              "      <th>Region_6</th>\n",
              "      <th>Region_7</th>\n",
              "      <th>Region_8</th>\n",
              "      <th>Region_9</th>\n",
              "      <th>Revenue</th>\n",
              "    </tr>\n",
              "  </thead>\n",
              "  <tbody>\n",
              "    <tr>\n",
              "      <th>0</th>\n",
              "      <td>0</td>\n",
              "      <td>0.0</td>\n",
              "      <td>0</td>\n",
              "      <td>0.0</td>\n",
              "      <td>1</td>\n",
              "      <td>0.000000</td>\n",
              "      <td>0.20</td>\n",
              "      <td>0.20</td>\n",
              "      <td>0.0</td>\n",
              "      <td>0.0</td>\n",
              "      <td>...</td>\n",
              "      <td>0</td>\n",
              "      <td>1</td>\n",
              "      <td>0</td>\n",
              "      <td>0</td>\n",
              "      <td>0</td>\n",
              "      <td>0</td>\n",
              "      <td>0</td>\n",
              "      <td>0</td>\n",
              "      <td>0</td>\n",
              "      <td>0</td>\n",
              "    </tr>\n",
              "    <tr>\n",
              "      <th>1</th>\n",
              "      <td>0</td>\n",
              "      <td>0.0</td>\n",
              "      <td>0</td>\n",
              "      <td>0.0</td>\n",
              "      <td>2</td>\n",
              "      <td>64.000000</td>\n",
              "      <td>0.00</td>\n",
              "      <td>0.10</td>\n",
              "      <td>0.0</td>\n",
              "      <td>0.0</td>\n",
              "      <td>...</td>\n",
              "      <td>0</td>\n",
              "      <td>1</td>\n",
              "      <td>0</td>\n",
              "      <td>0</td>\n",
              "      <td>0</td>\n",
              "      <td>0</td>\n",
              "      <td>0</td>\n",
              "      <td>0</td>\n",
              "      <td>0</td>\n",
              "      <td>0</td>\n",
              "    </tr>\n",
              "    <tr>\n",
              "      <th>2</th>\n",
              "      <td>0</td>\n",
              "      <td>0.0</td>\n",
              "      <td>0</td>\n",
              "      <td>0.0</td>\n",
              "      <td>1</td>\n",
              "      <td>0.000000</td>\n",
              "      <td>0.20</td>\n",
              "      <td>0.20</td>\n",
              "      <td>0.0</td>\n",
              "      <td>0.0</td>\n",
              "      <td>...</td>\n",
              "      <td>0</td>\n",
              "      <td>0</td>\n",
              "      <td>0</td>\n",
              "      <td>0</td>\n",
              "      <td>0</td>\n",
              "      <td>0</td>\n",
              "      <td>0</td>\n",
              "      <td>0</td>\n",
              "      <td>1</td>\n",
              "      <td>0</td>\n",
              "    </tr>\n",
              "    <tr>\n",
              "      <th>3</th>\n",
              "      <td>0</td>\n",
              "      <td>0.0</td>\n",
              "      <td>0</td>\n",
              "      <td>0.0</td>\n",
              "      <td>2</td>\n",
              "      <td>2.666667</td>\n",
              "      <td>0.05</td>\n",
              "      <td>0.14</td>\n",
              "      <td>0.0</td>\n",
              "      <td>0.0</td>\n",
              "      <td>...</td>\n",
              "      <td>0</td>\n",
              "      <td>0</td>\n",
              "      <td>1</td>\n",
              "      <td>0</td>\n",
              "      <td>0</td>\n",
              "      <td>0</td>\n",
              "      <td>0</td>\n",
              "      <td>0</td>\n",
              "      <td>0</td>\n",
              "      <td>0</td>\n",
              "    </tr>\n",
              "    <tr>\n",
              "      <th>4</th>\n",
              "      <td>0</td>\n",
              "      <td>0.0</td>\n",
              "      <td>0</td>\n",
              "      <td>0.0</td>\n",
              "      <td>10</td>\n",
              "      <td>627.500000</td>\n",
              "      <td>0.02</td>\n",
              "      <td>0.05</td>\n",
              "      <td>0.0</td>\n",
              "      <td>0.0</td>\n",
              "      <td>...</td>\n",
              "      <td>0</td>\n",
              "      <td>1</td>\n",
              "      <td>0</td>\n",
              "      <td>0</td>\n",
              "      <td>0</td>\n",
              "      <td>0</td>\n",
              "      <td>0</td>\n",
              "      <td>0</td>\n",
              "      <td>0</td>\n",
              "      <td>0</td>\n",
              "    </tr>\n",
              "  </tbody>\n",
              "</table>\n",
              "<p>5 rows × 69 columns</p>\n",
              "</div>\n",
              "      <button class=\"colab-df-convert\" onclick=\"convertToInteractive('df-b1d77b79-dc58-41d5-a54f-c1042fd9dffc')\"\n",
              "              title=\"Convert this dataframe to an interactive table.\"\n",
              "              style=\"display:none;\">\n",
              "        \n",
              "  <svg xmlns=\"http://www.w3.org/2000/svg\" height=\"24px\"viewBox=\"0 0 24 24\"\n",
              "       width=\"24px\">\n",
              "    <path d=\"M0 0h24v24H0V0z\" fill=\"none\"/>\n",
              "    <path d=\"M18.56 5.44l.94 2.06.94-2.06 2.06-.94-2.06-.94-.94-2.06-.94 2.06-2.06.94zm-11 1L8.5 8.5l.94-2.06 2.06-.94-2.06-.94L8.5 2.5l-.94 2.06-2.06.94zm10 10l.94 2.06.94-2.06 2.06-.94-2.06-.94-.94-2.06-.94 2.06-2.06.94z\"/><path d=\"M17.41 7.96l-1.37-1.37c-.4-.4-.92-.59-1.43-.59-.52 0-1.04.2-1.43.59L10.3 9.45l-7.72 7.72c-.78.78-.78 2.05 0 2.83L4 21.41c.39.39.9.59 1.41.59.51 0 1.02-.2 1.41-.59l7.78-7.78 2.81-2.81c.8-.78.8-2.07 0-2.86zM5.41 20L4 18.59l7.72-7.72 1.47 1.35L5.41 20z\"/>\n",
              "  </svg>\n",
              "      </button>\n",
              "      \n",
              "  <style>\n",
              "    .colab-df-container {\n",
              "      display:flex;\n",
              "      flex-wrap:wrap;\n",
              "      gap: 12px;\n",
              "    }\n",
              "\n",
              "    .colab-df-convert {\n",
              "      background-color: #E8F0FE;\n",
              "      border: none;\n",
              "      border-radius: 50%;\n",
              "      cursor: pointer;\n",
              "      display: none;\n",
              "      fill: #1967D2;\n",
              "      height: 32px;\n",
              "      padding: 0 0 0 0;\n",
              "      width: 32px;\n",
              "    }\n",
              "\n",
              "    .colab-df-convert:hover {\n",
              "      background-color: #E2EBFA;\n",
              "      box-shadow: 0px 1px 2px rgba(60, 64, 67, 0.3), 0px 1px 3px 1px rgba(60, 64, 67, 0.15);\n",
              "      fill: #174EA6;\n",
              "    }\n",
              "\n",
              "    [theme=dark] .colab-df-convert {\n",
              "      background-color: #3B4455;\n",
              "      fill: #D2E3FC;\n",
              "    }\n",
              "\n",
              "    [theme=dark] .colab-df-convert:hover {\n",
              "      background-color: #434B5C;\n",
              "      box-shadow: 0px 1px 3px 1px rgba(0, 0, 0, 0.15);\n",
              "      filter: drop-shadow(0px 1px 2px rgba(0, 0, 0, 0.3));\n",
              "      fill: #FFFFFF;\n",
              "    }\n",
              "  </style>\n",
              "\n",
              "      <script>\n",
              "        const buttonEl =\n",
              "          document.querySelector('#df-b1d77b79-dc58-41d5-a54f-c1042fd9dffc button.colab-df-convert');\n",
              "        buttonEl.style.display =\n",
              "          google.colab.kernel.accessAllowed ? 'block' : 'none';\n",
              "\n",
              "        async function convertToInteractive(key) {\n",
              "          const element = document.querySelector('#df-b1d77b79-dc58-41d5-a54f-c1042fd9dffc');\n",
              "          const dataTable =\n",
              "            await google.colab.kernel.invokeFunction('convertToInteractive',\n",
              "                                                     [key], {});\n",
              "          if (!dataTable) return;\n",
              "\n",
              "          const docLinkHtml = 'Like what you see? Visit the ' +\n",
              "            '<a target=\"_blank\" href=https://colab.research.google.com/notebooks/data_table.ipynb>data table notebook</a>'\n",
              "            + ' to learn more about interactive tables.';\n",
              "          element.innerHTML = '';\n",
              "          dataTable['output_type'] = 'display_data';\n",
              "          await google.colab.output.renderOutput(dataTable, element);\n",
              "          const docLink = document.createElement('div');\n",
              "          docLink.innerHTML = docLinkHtml;\n",
              "          element.appendChild(docLink);\n",
              "        }\n",
              "      </script>\n",
              "    </div>\n",
              "  </div>\n",
              "  "
            ]
          },
          "metadata": {},
          "execution_count": 3
        }
      ]
    },
    {
      "cell_type": "code",
      "source": [
        "#Dividindo em conjunto de treinamento e teste\n",
        "X = dataset.drop('Revenue', axis=1)\n",
        "y = dataset['Revenue']\n",
        "x_train, x_test, y_train, y_test = train_test_split(X, y, test_size=0.2, random_state=123)\n",
        "# Quantidade de atributos\n",
        "qtd_attr = df_feat.shape[1]"
      ],
      "metadata": {
        "id": "HHDMjaFfylKo"
      },
      "execution_count": 4,
      "outputs": []
    },
    {
      "cell_type": "markdown",
      "source": [
        "2. **Crie um modelo sequencial;**\n",
        "3. **Adicione uma camada Dense com N neurônios, sendo N a quantidade de atributos.**\n",
        "4. **Adicione uma função de ativação sigmoide;**\n",
        "5. **Compile o modelo especificando o otimizador, a métrica de loss para avaliar, e quaisquer outras métricas para avaliar depois de cada época;**\n"
      ],
      "metadata": {
        "id": "fks6aXndzk_b"
      }
    },
    {
      "cell_type": "code",
      "source": [
        "#Criando o Modelo\n",
        "model = keras.models.Sequential()\n",
        "model.add(keras.layers.Dense(12, input_dim=qtd_attr, activation=\"relu\"))\n",
        "model.add(keras.layers.Dense(1, activation=\"sigmoid\"))\n",
        "\n",
        "model.summary()"
      ],
      "metadata": {
        "colab": {
          "base_uri": "https://localhost:8080/"
        },
        "id": "ucjQuVtBzrmt",
        "outputId": "4fa3ce43-1979-48ea-d560-ca38870b8669"
      },
      "execution_count": 5,
      "outputs": [
        {
          "output_type": "stream",
          "name": "stdout",
          "text": [
            "Model: \"sequential\"\n",
            "_________________________________________________________________\n",
            " Layer (type)                Output Shape              Param #   \n",
            "=================================================================\n",
            " dense (Dense)               (None, 12)                828       \n",
            "                                                                 \n",
            " dense_1 (Dense)             (None, 1)                 13        \n",
            "                                                                 \n",
            "=================================================================\n",
            "Total params: 841\n",
            "Trainable params: 841\n",
            "Non-trainable params: 0\n",
            "_________________________________________________________________\n"
          ]
        }
      ]
    },
    {
      "cell_type": "code",
      "source": [
        "# Compilando o Modelo\n",
        "model.compile(loss='binary_crossentropy', \n",
        "              optimizer='adam',\n",
        "              metrics=['accuracy'])"
      ],
      "metadata": {
        "id": "79UJsBBWHxY9"
      },
      "execution_count": 6,
      "outputs": []
    },
    {
      "cell_type": "markdown",
      "source": [
        "6. **Ajuste o modelo aos dados de treinamento, especificando o número de épocas.**"
      ],
      "metadata": {
        "id": "NBtZDkQsJP1x"
      }
    },
    {
      "cell_type": "code",
      "source": [
        "# Treinando o Modelo\n",
        "EPOCH = 10\n",
        "history = model.fit(x_train, y_train, epochs=EPOCH, validation_split=0.2)"
      ],
      "metadata": {
        "colab": {
          "base_uri": "https://localhost:8080/"
        },
        "id": "OXEqT46oJgqD",
        "outputId": "d2ee666f-d5f3-47bb-df1d-3cf4bdd60f25"
      },
      "execution_count": 7,
      "outputs": [
        {
          "output_type": "stream",
          "name": "stdout",
          "text": [
            "Epoch 1/10\n",
            "247/247 [==============================] - 1s 2ms/step - loss: 1.6588 - accuracy: 0.6959 - val_loss: 1.3653 - val_accuracy: 0.8702\n",
            "Epoch 2/10\n",
            "247/247 [==============================] - 0s 2ms/step - loss: 0.5947 - accuracy: 0.8626 - val_loss: 0.4197 - val_accuracy: 0.8920\n",
            "Epoch 3/10\n",
            "247/247 [==============================] - 1s 2ms/step - loss: 0.5639 - accuracy: 0.8691 - val_loss: 0.8981 - val_accuracy: 0.7689\n",
            "Epoch 4/10\n",
            "247/247 [==============================] - 0s 2ms/step - loss: 0.5071 - accuracy: 0.8712 - val_loss: 0.4471 - val_accuracy: 0.8611\n",
            "Epoch 5/10\n",
            "247/247 [==============================] - 0s 2ms/step - loss: 0.5537 - accuracy: 0.8680 - val_loss: 0.9386 - val_accuracy: 0.7709\n",
            "Epoch 6/10\n",
            "247/247 [==============================] - 1s 2ms/step - loss: 0.6854 - accuracy: 0.8641 - val_loss: 0.4742 - val_accuracy: 0.8839\n",
            "Epoch 7/10\n",
            "247/247 [==============================] - 0s 2ms/step - loss: 0.5653 - accuracy: 0.8707 - val_loss: 0.6843 - val_accuracy: 0.8084\n",
            "Epoch 8/10\n",
            "247/247 [==============================] - 0s 2ms/step - loss: 0.6101 - accuracy: 0.8686 - val_loss: 0.4285 - val_accuracy: 0.8905\n",
            "Epoch 9/10\n",
            "247/247 [==============================] - 0s 2ms/step - loss: 0.4554 - accuracy: 0.8785 - val_loss: 0.5839 - val_accuracy: 0.8216\n",
            "Epoch 10/10\n",
            "247/247 [==============================] - 0s 2ms/step - loss: 0.5725 - accuracy: 0.8644 - val_loss: 0.4424 - val_accuracy: 0.8839\n"
          ]
        }
      ]
    },
    {
      "cell_type": "markdown",
      "source": [
        "7. **Apresente o loss e outras métricas para cada época que serão avaliadas nos conjuntos de treinamento/avaliação; **\n"
      ],
      "metadata": {
        "id": "j8b25DI8J6Hd"
      }
    },
    {
      "cell_type": "code",
      "source": [
        "# Avaliação de Métricas\n",
        "def viz_history(training_history):\n",
        "    loss = training_history.history['loss']\n",
        "    val_loss = training_history.history['val_loss']\n",
        "    accuracy = training_history.history['accuracy']\n",
        "    val_accuracy = training_history.history['val_accuracy']\n",
        "    plt.figure(figsize=(14, 4))\n",
        "    plt.subplot(1, 2, 1)\n",
        "    plt.title('Loss')\n",
        "    plt.xlabel('Epoch')\n",
        "    plt.ylabel('Loss')\n",
        "    plt.plot(loss, label='Training set')\n",
        "    plt.plot(val_loss, label='Test set', linestyle='--')\n",
        "    plt.legend()\n",
        "    plt.grid(linestyle='--', linewidth=1, alpha=0.5)\n",
        "    plt.subplot(1, 2, 2)\n",
        "    plt.title('Accuracy')\n",
        "    plt.xlabel('Epoch')\n",
        "    plt.ylabel('Accuracy')\n",
        "    plt.plot(accuracy, label='Training set')\n",
        "    plt.plot(val_accuracy, label='Test set', linestyle='--')\n",
        "    plt.legend()\n",
        "    plt.grid(linestyle='--', linewidth=1, alpha=0.5)\n",
        "    plt.show()\n",
        "\n",
        "viz_history(history)"
      ],
      "metadata": {
        "colab": {
          "base_uri": "https://localhost:8080/",
          "height": 294
        },
        "id": "dgRpOw8LKQCX",
        "outputId": "9806e2f1-261b-4554-8b6d-eede537bcd83"
      },
      "execution_count": 8,
      "outputs": [
        {
          "output_type": "display_data",
          "data": {
            "text/plain": [
              "<Figure size 1008x288 with 2 Axes>"
            ],
            "image/png": "[encoded data removed]"
          },
          "metadata": {
            "needs_background": "light"
          }
        }
      ]
    },
    {
      "cell_type": "code",
      "source": [
        "# Avaliação \n",
        "_, accuracy = model.evaluate(x_test,y_test)\n",
        "print(f\"Acurácia: {accuracy*100:.2f} %\")"
      ],
      "metadata": {
        "colab": {
          "base_uri": "https://localhost:8080/"
        },
        "id": "UYq3gy_HAc7Y",
        "outputId": "f0af2685-4a0c-48df-d8fb-30a441cd6812"
      },
      "execution_count": 9,
      "outputs": [
        {
          "output_type": "stream",
          "name": "stdout",
          "text": [
            "78/78 [==============================] - 0s 2ms/step - loss: 0.4083 - accuracy: 0.8808\n",
            "Acurácia: 88.08 %\n"
          ]
        }
      ]
    },
    {
      "cell_type": "code",
      "source": [
        "# Predições\n",
        "pred = (model.predict(x_test) > 0.5).astype(\"int32\")\n",
        "for i in range(10):\n",
        "  print('|real: %d | predito: %d|' % (y_test.to_list()[i], pred[i]))"
      ],
      "metadata": {
        "colab": {
          "base_uri": "https://localhost:8080/"
        },
        "id": "ZEINV0nFAiEe",
        "outputId": "63ca2ae5-20ee-4ab0-f02e-dc683e2670bc"
      },
      "execution_count": 10,
      "outputs": [
        {
          "output_type": "stream",
          "name": "stdout",
          "text": [
            "|real: 0 | predito: 0|\n",
            "|real: 0 | predito: 0|\n",
            "|real: 1 | predito: 1|\n",
            "|real: 0 | predito: 0|\n",
            "|real: 0 | predito: 0|\n",
            "|real: 0 | predito: 0|\n",
            "|real: 0 | predito: 0|\n",
            "|real: 0 | predito: 0|\n",
            "|real: 0 | predito: 0|\n",
            "|real: 0 | predito: 0|\n"
          ]
        }
      ]
    }
  ]
}