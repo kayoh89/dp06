{
  "nbformat": 4,
  "nbformat_minor": 0,
  "metadata": {
    "colab": {
      "name": "Untitled14.ipynb",
      "provenance": []
    },
    "kernelspec": {
      "name": "python3",
      "display_name": "Python 3"
    },
    "language_info": {
      "name": "python"
    }
  },
  "cells": [
    {
      "cell_type": "code",
      "execution_count": 95,
      "metadata": {
        "id": "0G6kbDGWO8SR"
      },
      "outputs": [],
      "source": [
        "import numpy as np\n",
        "import pandas as pd\n",
        "import matplotlib.pyplot as plt\n",
        "%matplotlib inline\n",
        "import seaborn as sns\n",
        "import tqdm # somente para display da evolução do loop\n"
      ]
    },
    {
      "cell_type": "code",
      "source": [
        "#Exibindo csv\n",
        "df = pd.read_csv(\"/content/suicidios_por_estados_por_ano.csv\" ,index_col=0)\n",
        "df.head()"
      ],
      "metadata": {
        "colab": {
          "base_uri": "https://localhost:8080/",
          "height": 206
        },
        "id": "qTwTNWQqPGfL",
        "outputId": "78e5a14f-5067-4f69-8794-b894b3c49a30"
      },
      "execution_count": 116,
      "outputs": [
        {
          "output_type": "execute_result",
          "data": {
            "text/html": [
              "\n",
              "  <div id=\"df-001df07c-f796-4d00-a81b-d25b8f26e5b7\">\n",
              "    <div class=\"colab-df-container\">\n",
              "      <div>\n",
              "<style scoped>\n",
              "    .dataframe tbody tr th:only-of-type {\n",
              "        vertical-align: middle;\n",
              "    }\n",
              "\n",
              "    .dataframe tbody tr th {\n",
              "        vertical-align: top;\n",
              "    }\n",
              "\n",
              "    .dataframe thead th {\n",
              "        text-align: right;\n",
              "    }\n",
              "</style>\n",
              "<table border=\"1\" class=\"dataframe\">\n",
              "  <thead>\n",
              "    <tr style=\"text-align: right;\">\n",
              "      <th></th>\n",
              "      <th>abrev_estado</th>\n",
              "      <th>estado</th>\n",
              "      <th>regiao</th>\n",
              "      <th>ano</th>\n",
              "      <th>n</th>\n",
              "    </tr>\n",
              "  </thead>\n",
              "  <tbody>\n",
              "    <tr>\n",
              "      <th>1</th>\n",
              "      <td>RO</td>\n",
              "      <td>Rondônia</td>\n",
              "      <td>1</td>\n",
              "      <td>2010</td>\n",
              "      <td>82</td>\n",
              "    </tr>\n",
              "    <tr>\n",
              "      <th>2</th>\n",
              "      <td>RO</td>\n",
              "      <td>Rondônia</td>\n",
              "      <td>1</td>\n",
              "      <td>2011</td>\n",
              "      <td>78</td>\n",
              "    </tr>\n",
              "    <tr>\n",
              "      <th>3</th>\n",
              "      <td>RO</td>\n",
              "      <td>Rondônia</td>\n",
              "      <td>1</td>\n",
              "      <td>2012</td>\n",
              "      <td>73</td>\n",
              "    </tr>\n",
              "    <tr>\n",
              "      <th>4</th>\n",
              "      <td>RO</td>\n",
              "      <td>Rondônia</td>\n",
              "      <td>1</td>\n",
              "      <td>2013</td>\n",
              "      <td>86</td>\n",
              "    </tr>\n",
              "    <tr>\n",
              "      <th>5</th>\n",
              "      <td>RO</td>\n",
              "      <td>Rondônia</td>\n",
              "      <td>1</td>\n",
              "      <td>2014</td>\n",
              "      <td>84</td>\n",
              "    </tr>\n",
              "  </tbody>\n",
              "</table>\n",
              "</div>\n",
              "      <button class=\"colab-df-convert\" onclick=\"convertToInteractive('df-001df07c-f796-4d00-a81b-d25b8f26e5b7')\"\n",
              "              title=\"Convert this dataframe to an interactive table.\"\n",
              "              style=\"display:none;\">\n",
              "        \n",
              "  <svg xmlns=\"http://www.w3.org/2000/svg\" height=\"24px\"viewBox=\"0 0 24 24\"\n",
              "       width=\"24px\">\n",
              "    <path d=\"M0 0h24v24H0V0z\" fill=\"none\"/>\n",
              "    <path d=\"M18.56 5.44l.94 2.06.94-2.06 2.06-.94-2.06-.94-.94-2.06-.94 2.06-2.06.94zm-11 1L8.5 8.5l.94-2.06 2.06-.94-2.06-.94L8.5 2.5l-.94 2.06-2.06.94zm10 10l.94 2.06.94-2.06 2.06-.94-2.06-.94-.94-2.06-.94 2.06-2.06.94z\"/><path d=\"M17.41 7.96l-1.37-1.37c-.4-.4-.92-.59-1.43-.59-.52 0-1.04.2-1.43.59L10.3 9.45l-7.72 7.72c-.78.78-.78 2.05 0 2.83L4 21.41c.39.39.9.59 1.41.59.51 0 1.02-.2 1.41-.59l7.78-7.78 2.81-2.81c.8-.78.8-2.07 0-2.86zM5.41 20L4 18.59l7.72-7.72 1.47 1.35L5.41 20z\"/>\n",
              "  </svg>\n",
              "      </button>\n",
              "      \n",
              "  <style>\n",
              "    .colab-df-container {\n",
              "      display:flex;\n",
              "      flex-wrap:wrap;\n",
              "      gap: 12px;\n",
              "    }\n",
              "\n",
              "    .colab-df-convert {\n",
              "      background-color: #E8F0FE;\n",
              "      border: none;\n",
              "      border-radius: 50%;\n",
              "      cursor: pointer;\n",
              "      display: none;\n",
              "      fill: #1967D2;\n",
              "      height: 32px;\n",
              "      padding: 0 0 0 0;\n",
              "      width: 32px;\n",
              "    }\n",
              "\n",
              "    .colab-df-convert:hover {\n",
              "      background-color: #E2EBFA;\n",
              "      box-shadow: 0px 1px 2px rgba(60, 64, 67, 0.3), 0px 1px 3px 1px rgba(60, 64, 67, 0.15);\n",
              "      fill: #174EA6;\n",
              "    }\n",
              "\n",
              "    [theme=dark] .colab-df-convert {\n",
              "      background-color: #3B4455;\n",
              "      fill: #D2E3FC;\n",
              "    }\n",
              "\n",
              "    [theme=dark] .colab-df-convert:hover {\n",
              "      background-color: #434B5C;\n",
              "      box-shadow: 0px 1px 3px 1px rgba(0, 0, 0, 0.15);\n",
              "      filter: drop-shadow(0px 1px 2px rgba(0, 0, 0, 0.3));\n",
              "      fill: #FFFFFF;\n",
              "    }\n",
              "  </style>\n",
              "\n",
              "      <script>\n",
              "        const buttonEl =\n",
              "          document.querySelector('#df-001df07c-f796-4d00-a81b-d25b8f26e5b7 button.colab-df-convert');\n",
              "        buttonEl.style.display =\n",
              "          google.colab.kernel.accessAllowed ? 'block' : 'none';\n",
              "\n",
              "        async function convertToInteractive(key) {\n",
              "          const element = document.querySelector('#df-001df07c-f796-4d00-a81b-d25b8f26e5b7');\n",
              "          const dataTable =\n",
              "            await google.colab.kernel.invokeFunction('convertToInteractive',\n",
              "                                                     [key], {});\n",
              "          if (!dataTable) return;\n",
              "\n",
              "          const docLinkHtml = 'Like what you see? Visit the ' +\n",
              "            '<a target=\"_blank\" href=https://colab.research.google.com/notebooks/data_table.ipynb>data table notebook</a>'\n",
              "            + ' to learn more about interactive tables.';\n",
              "          element.innerHTML = '';\n",
              "          dataTable['output_type'] = 'display_data';\n",
              "          await google.colab.output.renderOutput(dataTable, element);\n",
              "          const docLink = document.createElement('div');\n",
              "          docLink.innerHTML = docLinkHtml;\n",
              "          element.appendChild(docLink);\n",
              "        }\n",
              "      </script>\n",
              "    </div>\n",
              "  </div>\n",
              "  "
            ],
            "text/plain": [
              "  abrev_estado    estado  regiao   ano   n\n",
              "1           RO  Rondônia       1  2010  82\n",
              "2           RO  Rondônia       1  2011  78\n",
              "3           RO  Rondônia       1  2012  73\n",
              "4           RO  Rondônia       1  2013  86\n",
              "5           RO  Rondônia       1  2014  84"
            ]
          },
          "metadata": {},
          "execution_count": 116
        }
      ]
    },
    {
      "cell_type": "code",
      "source": [
        "#Verificando se há valores nulos.\n",
        "print(df.isnull().sum())"
      ],
      "metadata": {
        "colab": {
          "base_uri": "https://localhost:8080/"
        },
        "id": "NW6yGbjfQumM",
        "outputId": "2185a619-986e-4389-bc29-c690f4f21a1f"
      },
      "execution_count": 117,
      "outputs": [
        {
          "output_type": "stream",
          "name": "stdout",
          "text": [
            "abrev_estado    0\n",
            "estado          0\n",
            "regiao          0\n",
            "ano             0\n",
            "n               0\n",
            "dtype: int64\n"
          ]
        }
      ]
    },
    {
      "cell_type": "code",
      "source": [
        "# EXPLORAÇÃO DOS DADOS\n",
        "df['regiao'].value_counts()"
      ],
      "metadata": {
        "colab": {
          "base_uri": "https://localhost:8080/"
        },
        "id": "Z4pUwtfeQw2K",
        "outputId": "db70f94d-c3f7-47a8-9044-577f3745ce5b"
      },
      "execution_count": 118,
      "outputs": [
        {
          "output_type": "execute_result",
          "data": {
            "text/plain": [
              "2    90\n",
              "1    70\n",
              "4    40\n",
              "3    40\n",
              "5    30\n",
              "Name: regiao, dtype: int64"
            ]
          },
          "metadata": {},
          "execution_count": 118
        }
      ]
    },
    {
      "cell_type": "code",
      "source": [
        "#dropando colunas \n",
        "df = df.drop([\"abrev_estado\",'estado'], axis=1)"
      ],
      "metadata": {
        "id": "UciAN3pnQy9h"
      },
      "execution_count": 119,
      "outputs": []
    },
    {
      "cell_type": "code",
      "source": [
        "# Converter o tipo de dados para float \n",
        "df = df.astype (float)"
      ],
      "metadata": {
        "id": "HPcyg0bLQ1be"
      },
      "execution_count": 120,
      "outputs": []
    },
    {
      "cell_type": "code",
      "source": [
        "#Definir valores de teste\n",
        "X = df.drop('regiao', axis=1)\n",
        "y = df[['regiao']]"
      ],
      "metadata": {
        "id": "NJhqJNbnQ4-v"
      },
      "execution_count": 121,
      "outputs": []
    },
    {
      "cell_type": "code",
      "source": [
        "# Verificando o Balanceamento dos Dados do Dataset\n",
        "plt.figure(figsize=(12,5))\n",
        "plt.ylabel('Valores', fontsize=15, fontweight='bold')\n",
        "plt.xlabel('Classes', fontsize=15, fontweight='bold')\n",
        "df['regiao'].value_counts().plot(kind='bar')\n",
        "plt.show()"
      ],
      "metadata": {
        "colab": {
          "base_uri": "https://localhost:8080/",
          "height": 345
        },
        "id": "loDR-8-jRJ4Y",
        "outputId": "1ff3a7c5-19a4-451f-f6b4-4f6724ae9126"
      },
      "execution_count": 122,
      "outputs": [
        {
          "output_type": "display_data",
          "data": {
            "image/png": "[encoded data removed]",
            "text/plain": [
              "<Figure size 864x360 with 1 Axes>"
            ]
          },
          "metadata": {
            "needs_background": "light"
          }
        }
      ]
    },
    {
      "cell_type": "code",
      "source": [
        "# Resolvendo o problema de desbalanceamento\n",
        "ros = RandomOverSampler(random_state=123)\n",
        "X_resample, y_resample = ros.fit_resample(df.drop(labels=['regiao'], axis=1), df['regiao'])\n",
        "# Concatenando os dados Resampleados com OverSample\n",
        "df_resample = pd.concat([X_resample, y_resample], axis=1)\n"
      ],
      "metadata": {
        "id": "tKZ-axSGRsEi"
      },
      "execution_count": 123,
      "outputs": []
    },
    {
      "cell_type": "code",
      "source": [
        "# Verificando o Shape dos dados antigo em relação aos Novos\n",
        "print(f\"Os dados anteriores possuiam {df.shape[0]} linhas e {df.shape[1]} colunas.\")\n",
        "print(f\"Os dados modificados possuem {df_resample.shape[0]} linhas e {df_resample.shape[1]} colunas\")\n"
      ],
      "metadata": {
        "colab": {
          "base_uri": "https://localhost:8080/"
        },
        "id": "_gMhqLD1R2jd",
        "outputId": "a97ac03f-3fdd-4fe0-aad2-0b1eeb76a8aa"
      },
      "execution_count": 124,
      "outputs": [
        {
          "output_type": "stream",
          "name": "stdout",
          "text": [
            "Os dados anteriores possuiam 270 linhas e 3 colunas.\n",
            "Os dados modificados possuem 450 linhas e 3 colunas\n"
          ]
        }
      ]
    },
    {
      "cell_type": "code",
      "source": [
        "# Verificando o Balanceamento dos Dados do Dataset após modificação\n",
        "plt.figure(figsize=(12,5))\n",
        "plt.ylabel('Valores', fontsize=15, fontweight='bold')\n",
        "plt.xlabel('Classes', fontsize=15, fontweight='bold')\n",
        "df_resample['regiao'].value_counts().plot(kind='bar')\n",
        "plt.show()\n"
      ],
      "metadata": {
        "colab": {
          "base_uri": "https://localhost:8080/",
          "height": 345
        },
        "id": "3JwBR8Y5R_g6",
        "outputId": "0d11e4d0-2124-43af-a0ae-67be86a7b39f"
      },
      "execution_count": 125,
      "outputs": [
        {
          "output_type": "display_data",
          "data": {
            "image/png": "[encoded data removed]",
            "text/plain": [
              "<Figure size 864x360 with 1 Axes>"
            ]
          },
          "metadata": {
            "needs_background": "light"
          }
        }
      ]
    },
    {
      "cell_type": "code",
      "source": [
        "y_resample = pd.get_dummies(y_resample)"
      ],
      "metadata": {
        "id": "hVLbFBuqSLCr"
      },
      "execution_count": 126,
      "outputs": []
    },
    {
      "cell_type": "markdown",
      "source": [
        "Funções de Plotagem e Avaliação de Modelos"
      ],
      "metadata": {
        "id": "Afyyd5GvSUBx"
      }
    },
    {
      "cell_type": "code",
      "source": [
        "def plot_history(loss_list, accuracy_list, title):\n",
        " fig, (ax1,ax2) = plt.subplots(2, figsize=(6,8), sharex=True)\n",
        "\n",
        " ax1.set_title(title, fontsize=14, fontweight='bold')\n",
        " ax2.set_title(title, fontsize=14, fontweight='bold')\n",
        " ax1.plot(accuracy_list)\n",
        " ax1.set_ylabel('Validação - Accuracy')\n",
        " ax2.plot(loss_list)\n",
        "\n",
        " ax2.set_ylabel('Validação - Loss')\n",
        " ax2.set_xlabel('Epochs')\n",
        " return\n",
        "def print_results(y_test, y_pred):\n",
        " mc = pd.DataFrame(confusion_matrix(y_test, y_pred), index=['Atual: Não',\n",
        " 'Atual: Sim'],\n",
        " columns=['Predição: Não', 'Predição: Sim'])\n",
        " display(mc)\n",
        " class_report = pd.DataFrame(classification_report(y_test,y_pred, output_dict=True)).transpose()\n",
        " display(class_report)\n",
        " print(f'Acuracidade: {round(accuracy_score(y_test,y_pred)*100,2)} %')\n",
        " return"
      ],
      "metadata": {
        "id": "79FEaq8JSV03"
      },
      "execution_count": 107,
      "outputs": []
    },
    {
      "cell_type": "markdown",
      "source": [
        "Modelo DEEP LEARNING - Utilizando o Pytorch\n",
        "Definindo o Modelo"
      ],
      "metadata": {
        "id": "tA-ik172SlBU"
      }
    },
    {
      "cell_type": "code",
      "source": [
        "from sklearn.preprocessing import StandardScaler\n",
        "\n",
        "scaler = StandardScaler()\n",
        "scaler.fit_transform(df.drop(columns='regiao'))\n",
        "X = scaler.transform(df.drop(columns='regiao'))"
      ],
      "metadata": {
        "id": "_mT0yAmYcO94"
      },
      "execution_count": 130,
      "outputs": []
    },
    {
      "cell_type": "code",
      "source": [
        "print( X[0:2] )"
      ],
      "metadata": {
        "colab": {
          "base_uri": "https://localhost:8080/"
        },
        "id": "7VIv6xrUgOlK",
        "outputId": "7533495f-b2a9-492f-9906-db987614c7fd"
      },
      "execution_count": 131,
      "outputs": [
        {
          "output_type": "stream",
          "name": "stdout",
          "text": [
            "[[-1.5666989  -0.69956744]\n",
            " [-1.21854359 -0.70792964]]\n"
          ]
        }
      ]
    },
    {
      "cell_type": "code",
      "source": [
        "y = np.array( df.regiao )\n",
        "print( y[0:10] )"
      ],
      "metadata": {
        "colab": {
          "base_uri": "https://localhost:8080/"
        },
        "id": "2B4EJ-iGgPwR",
        "outputId": "ea372a5d-a33d-4ab7-fed8-abe336107611"
      },
      "execution_count": 132,
      "outputs": [
        {
          "output_type": "stream",
          "name": "stdout",
          "text": [
            "[1. 1. 1. 1. 1. 1. 1. 1. 1. 1.]\n"
          ]
        }
      ]
    },
    {
      "cell_type": "code",
      "source": [
        "y.shape"
      ],
      "metadata": {
        "colab": {
          "base_uri": "https://localhost:8080/"
        },
        "id": "yOnkmUYjgSxv",
        "outputId": "0586f6c3-3745-4f5d-c92b-3b155b8fd7c3"
      },
      "execution_count": 133,
      "outputs": [
        {
          "output_type": "execute_result",
          "data": {
            "text/plain": [
              "(270,)"
            ]
          },
          "metadata": {},
          "execution_count": 133
        }
      ]
    },
    {
      "cell_type": "code",
      "source": [
        "from sklearn.model_selection import train_test_split\n",
        "\n",
        "X_train, X_test, y_train, y_test = train_test_split(X, y, test_size=0.2, random_state=123)"
      ],
      "metadata": {
        "id": "fuzXAZFegZYJ"
      },
      "execution_count": 134,
      "outputs": []
    },
    {
      "cell_type": "code",
      "source": [
        "import torch\n",
        "import torch.nn as nn\n",
        "from torch.autograd import Variable"
      ],
      "metadata": {
        "id": "O69v9a2ugaVf"
      },
      "execution_count": 135,
      "outputs": []
    },
    {
      "cell_type": "code",
      "source": [
        "class Model(nn.Module):\n",
        "    def __init__(self, input_dim):\n",
        "        super(Model, self).__init__()\n",
        "        self.layer1 = nn.Linear(input_dim, 50)\n",
        "        self.layer2 = nn.Linear(50, 50)\n",
        "        self.layer3 = nn.Linear(50, 1)\n",
        "        \n",
        "    def forward(self, x):\n",
        "        x = torch.relu(self.layer1(x))\n",
        "        x = torch.relu(self.layer2(x))\n",
        "        x = torch.sigmoid(self.layer3(x))       \n",
        "        return x\n",
        "\n",
        "model     = Model(X_train.shape[1])\n",
        "optimizer = torch.optim.Adam(model.parameters(), lr=0.001)\n",
        "loss_fn   = nn.BCELoss()\n",
        "model\n",
        "\n",
        "X_train = Variable(torch.from_numpy(X_train)).float()\n",
        "y_train = Variable(torch.from_numpy(y_train)).float()\n",
        "\n",
        "X_test  = Variable(torch.from_numpy(X_test)).float()\n",
        "y_test  = Variable(torch.from_numpy(y_test)).long()\n",
        "\n",
        "EPOCHS  = 100\n",
        "\n",
        "loss_list     = np.zeros((EPOCHS,))\n",
        "accuracy_list = np.zeros((EPOCHS,))\n",
        "\n",
        "for epoch in tqdm.trange(EPOCHS):\n",
        "    y_pred = model(X_train)\n",
        "    loss = loss_fn(y_pred, y_train.reshape(-1,1))\n",
        "    loss_list[epoch] = loss.item()\n",
        "    \n",
        "    # Zero gradients\n",
        "    optimizer.zero_grad()\n",
        "    loss.backward()\n",
        "    optimizer.step()\n",
        "    \n",
        "    with torch.no_grad():\n",
        "        y_pred = model(X_test)\n",
        "        correct = (y_pred[:,0] > 0.5) == y_test\n",
        "        accuracy_list[epoch] = correct.sum() / len(correct)"
      ],
      "metadata": {
        "colab": {
          "base_uri": "https://localhost:8080/"
        },
        "id": "hVlZWSpFgcjQ",
        "outputId": "bae73413-ef3e-4c6b-c1d3-88bb9396687b"
      },
      "execution_count": 136,
      "outputs": [
        {
          "output_type": "stream",
          "name": "stderr",
          "text": [
            "100%|██████████| 100/100 [00:00<00:00, 212.06it/s]\n"
          ]
        }
      ]
    },
    {
      "cell_type": "code",
      "source": [
        "def plot_history(loss_list,  accuracy_list):\n",
        "  fig, (ax1, ax2) = plt.subplots(2, figsize=(6, 8), sharex=True)\n",
        "\n",
        "  ax1.plot(accuracy_list)\n",
        "  ax1.set_ylabel(\"validation accuracy\")\n",
        "  ax2.plot(loss_list)\n",
        "  ax2.set_ylabel(\"validation loss\")\n",
        "  ax2.set_xlabel(\"epochs\")\n",
        "  plt.show()\n",
        "\n",
        "  return\n",
        "\n",
        "plot_history(loss_list,  accuracy_list) "
      ],
      "metadata": {
        "colab": {
          "base_uri": "https://localhost:8080/",
          "height": 499
        },
        "id": "qt10ZjeBgcpe",
        "outputId": "6c28f11c-3722-4018-9ab8-d8d4bbeb915f"
      },
      "execution_count": 137,
      "outputs": [
        {
          "output_type": "display_data",
          "data": {
            "image/png": "[encoded data removed]",
            "text/plain": [
              "<Figure size 432x576 with 2 Axes>"
            ]
          },
          "metadata": {
            "needs_background": "light"
          }
        }
      ]
    },
    {
      "cell_type": "code",
      "source": [
        "from sklearn.metrics import accuracy_score\n",
        "print(accuracy_score(y_test.detach().numpy(), y_pred.detach().numpy() > 0.5 ))"
      ],
      "metadata": {
        "colab": {
          "base_uri": "https://localhost:8080/"
        },
        "id": "gy8cHC-VgmEO",
        "outputId": "c4462ca7-a8f6-4345-ead4-b6416f9b55ea"
      },
      "execution_count": 138,
      "outputs": [
        {
          "output_type": "stream",
          "name": "stdout",
          "text": [
            "0.25925925925925924\n"
          ]
        }
      ]
    }
  ]
}